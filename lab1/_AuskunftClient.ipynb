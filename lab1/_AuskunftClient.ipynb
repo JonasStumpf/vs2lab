{
 "cells": [
  {
   "cell_type": "markdown",
   "metadata": {},
   "source": [
    "# Running server and client in separate notebooks - client part\n",
    "\n",
    "Here we start the client. The server needs to be started first. Lets go....\n",
    "\n",
    "Zum Abrufen einer bestimmten Person: client.get([name])\n",
    "Zum Abrufen aller Einträge: client.getAll()"
   ]
  },
  {
   "cell_type": "code",
   "execution_count": 3,
   "metadata": {},
   "outputs": [
    {
     "name": "stderr",
     "output_type": "stream",
     "text": [
      "2025-10-20 11:06:11,401 - vs2lab.a1_layers.clientserver.Client - INFO - Client connected to socket <socket.socket fd=80, family=2, type=1, proto=0, laddr=('127.0.0.1', 59350), raddr=('127.0.0.1', 50007)>\n",
      "2025-10-20 11:06:11,403 - vs2lab.a1_layers.clientserver.Client - INFO - Client down.\n",
      "2025-10-20 11:06:11,404 - vs2lab.a1_layers.clientserver.Client - INFO - Client connected to socket <socket.socket fd=80, family=2, type=1, proto=0, laddr=('127.0.0.1', 59356), raddr=('127.0.0.1', 50007)>\n",
      "2025-10-20 11:06:11,406 - vs2lab.a1_layers.clientserver.Client - INFO - Client down.\n"
     ]
    },
    {
     "name": "stdout",
     "output_type": "stream",
     "text": [
      "4139\n",
      "{'jack': 4098, 'sape': 4139, 'guido': 4127}\n"
     ]
    },
    {
     "data": {
      "text/plain": [
       "\"{'jack': 4098, 'sape': 4139, 'guido': 4127}\""
      ]
     },
     "execution_count": 3,
     "metadata": {},
     "output_type": "execute_result"
    }
   ],
   "source": [
    "import AuskunftDienst # import from our script\n",
    "\n",
    "client = AuskunftDienst.Client() # Create a client instance\n",
    "client.get(\"sape\") # Call the get method\n",
    "\n",
    "client = AuskunftDienst.Client() # Create a client instance\n",
    "client.getAll() # Call the getAll method"
   ]
  },
  {
   "cell_type": "markdown",
   "metadata": {},
   "source": [
    "Finished."
   ]
  },
  {
   "cell_type": "code",
   "execution_count": null,
   "metadata": {},
   "outputs": [],
   "source": []
  },
  {
   "cell_type": "code",
   "execution_count": null,
   "metadata": {},
   "outputs": [],
   "source": []
  }
 ],
 "metadata": {
  "kernelspec": {
   "display_name": "vs2lab-uWc7IIUF",
   "language": "python",
   "name": "python3"
  },
  "language_info": {
   "codemirror_mode": {
    "name": "ipython",
    "version": 3
   },
   "file_extension": ".py",
   "mimetype": "text/x-python",
   "name": "python",
   "nbconvert_exporter": "python",
   "pygments_lexer": "ipython3",
   "version": "3.11.4"
  }
 },
 "nbformat": 4,
 "nbformat_minor": 4
}
