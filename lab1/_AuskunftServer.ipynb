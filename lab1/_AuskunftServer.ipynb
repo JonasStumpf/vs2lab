{
 "cells": [
  {
   "cell_type": "markdown",
   "metadata": {},
   "source": [
    "# Running server and client in separate notebooks - server part\n",
    "This is the first notebook we need to run in this constelation. Note that the client notebook needs to be run now in a separate window.\n",
    "\n",
    "Es können Personen hinzugefügt werden: server.addPerson(name, telnum)"
   ]
  },
  {
   "cell_type": "code",
   "execution_count": null,
   "metadata": {
    "scrolled": true
   },
   "outputs": [
    {
     "name": "stderr",
     "output_type": "stream",
     "text": [
      "2025-10-20 11:05:38,395 - vs2lab.lab1.clientserver.Server - INFO - Server bound to socket <socket.socket fd=77, family=2, type=1, proto=0, laddr=('127.0.0.1', 50007)>\n",
      "2025-10-20 11:05:38,396 - vs2lab.lab1.clientserver.Server - INFO - Server waiting for requests...\n",
      "2025-10-20 11:05:42,935 - vs2lab.lab1.clientserver.Server - INFO - Connection from ('127.0.0.1', 35126)\n",
      "2025-10-20 11:05:42,936 - vs2lab.lab1.clientserver.Server - INFO - Received data, sending response...\n",
      "2025-10-20 11:05:42,937 - vs2lab.lab1.clientserver.Server - INFO - Handle Request: GET sape\n",
      "2025-10-20 11:05:42,938 - vs2lab.lab1.clientserver.Server - INFO - Connection closed\n",
      "2025-10-20 11:05:42,939 - vs2lab.lab1.clientserver.Server - INFO - Connection from ('127.0.0.1', 35138)\n",
      "2025-10-20 11:05:42,940 - vs2lab.lab1.clientserver.Server - INFO - Received data, sending response...\n",
      "2025-10-20 11:05:42,940 - vs2lab.lab1.clientserver.Server - INFO - Handle Request: GETALL\n",
      "2025-10-20 11:05:42,941 - vs2lab.lab1.clientserver.Server - INFO - Connection closed\n",
      "2025-10-20 11:06:11,401 - vs2lab.lab1.clientserver.Server - INFO - Connection from ('127.0.0.1', 59350)\n",
      "2025-10-20 11:06:11,402 - vs2lab.lab1.clientserver.Server - INFO - Received data, sending response...\n",
      "2025-10-20 11:06:11,402 - vs2lab.lab1.clientserver.Server - INFO - Handle Request: GET sape\n",
      "2025-10-20 11:06:11,403 - vs2lab.lab1.clientserver.Server - INFO - Connection closed\n",
      "2025-10-20 11:06:11,404 - vs2lab.lab1.clientserver.Server - INFO - Connection from ('127.0.0.1', 59356)\n",
      "2025-10-20 11:06:11,405 - vs2lab.lab1.clientserver.Server - INFO - Received data, sending response...\n",
      "2025-10-20 11:06:11,405 - vs2lab.lab1.clientserver.Server - INFO - Handle Request: GETALL\n",
      "2025-10-20 11:06:11,406 - vs2lab.lab1.clientserver.Server - INFO - Connection closed\n"
     ]
    }
   ],
   "source": [
    "import AuskunftDienst # import from our script\n",
    "\n",
    "server = AuskunftDienst.Server() # Create a server instance\n",
    "\n",
    "server.serve() # start server routine in the forked process"
   ]
  },
  {
   "cell_type": "markdown",
   "metadata": {},
   "source": [
    "Finished"
   ]
  }
 ],
 "metadata": {
  "kernelspec": {
   "display_name": "Python 3 (ipykernel)",
   "language": "python",
   "name": "python3"
  },
  "language_info": {
   "codemirror_mode": {
    "name": "ipython",
    "version": 3
   },
   "file_extension": ".py",
   "mimetype": "text/x-python",
   "name": "python",
   "nbconvert_exporter": "python",
   "pygments_lexer": "ipython3",
   "version": "3.11.4"
  }
 },
 "nbformat": 4,
 "nbformat_minor": 4
}
